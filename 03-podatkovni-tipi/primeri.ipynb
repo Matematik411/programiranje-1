{
 "cells": [
  {
   "cell_type": "markdown",
   "metadata": {},
   "source": [
    "# Podatkovni tipi"
   ]
  },
  {
   "cell_type": "markdown",
   "metadata": {},
   "source": [
    "## Okrajšave"
   ]
  },
  {
   "cell_type": "code",
   "execution_count": 4,
   "metadata": {
    "vscode": {
     "languageId": "ocaml"
    }
   },
   "outputs": [
    {
     "data": {
      "text/plain": [
       "val ( ++ ) :\n",
       "  float * float * float -> float * float * float -> float * float * float =\n",
       "  <fun>\n"
      ]
     },
     "execution_count": 4,
     "metadata": {},
     "output_type": "execute_result"
    }
   ],
   "source": [
    "let ( ++ ) (x1, y1, z1) (x2, y2, z2) = (x1 +. x2, y1 +. y2, z1 +. z2)"
   ]
  },
  {
   "cell_type": "code",
   "execution_count": 5,
   "metadata": {
    "vscode": {
     "languageId": "ocaml"
    }
   },
   "outputs": [
    {
     "data": {
      "text/plain": [
       "type r3 = float * float * float\n"
      ]
     },
     "execution_count": 5,
     "metadata": {},
     "output_type": "execute_result"
    }
   ],
   "source": [
    "type r3 = float * float * float"
   ]
  },
  {
   "cell_type": "code",
   "execution_count": 6,
   "metadata": {
    "vscode": {
     "languageId": "ocaml"
    }
   },
   "outputs": [
    {
     "data": {
      "text/plain": [
       "val ( ++ ) :\n",
       "  float * float * float -> float * float * float -> float * float * float =\n",
       "  <fun>\n"
      ]
     },
     "execution_count": 6,
     "metadata": {},
     "output_type": "execute_result"
    }
   ],
   "source": [
    "let ( ++ ) (x1, y1, z1) (x2, y2, z2) = (x1 +. x2, y1 +. y2, z1 +. z2)"
   ]
  },
  {
   "cell_type": "code",
   "execution_count": 7,
   "metadata": {
    "vscode": {
     "languageId": "ocaml"
    }
   },
   "outputs": [
    {
     "data": {
      "text/plain": [
       "val ( ++ ) : float * float * float -> float * float * float -> r3 = <fun>\n"
      ]
     },
     "execution_count": 7,
     "metadata": {},
     "output_type": "execute_result"
    }
   ],
   "source": [
    "let ( ++ ) (x1, y1, z1) (x2, y2, z2) = ((x1 +. x2, y1 +. y2, z1 +. z2) : r3)"
   ]
  },
  {
   "cell_type": "code",
   "execution_count": 5,
   "metadata": {
    "vscode": {
     "languageId": "ocaml"
    }
   },
   "outputs": [
    {
     "data": {
      "text/plain": [
       "val ( ++ ) : r3 -> r3 -> r3 = <fun>\n"
      ]
     },
     "execution_count": 5,
     "metadata": {},
     "output_type": "execute_result"
    }
   ],
   "source": [
    "let ( ++ ) ((x1, y1, z1) : r3) ((x2, y2, z2) : r3) = ((x1 +. x2, y1 +. y2, z1 +. z2) : r3)"
   ]
  },
  {
   "cell_type": "code",
   "execution_count": 6,
   "metadata": {
    "vscode": {
     "languageId": "ocaml"
    }
   },
   "outputs": [
    {
     "data": {
      "text/plain": [
       "type complex = float * float\n"
      ]
     },
     "execution_count": 6,
     "metadata": {},
     "output_type": "execute_result"
    }
   ],
   "source": [
    "type complex = float * float"
   ]
  },
  {
   "cell_type": "code",
   "execution_count": 7,
   "metadata": {
    "vscode": {
     "languageId": "ocaml"
    }
   },
   "outputs": [
    {
     "data": {
      "text/plain": [
       "- : float -> float -> float = <fun>\n"
      ]
     },
     "execution_count": 7,
     "metadata": {},
     "output_type": "execute_result"
    }
   ],
   "source": [
    "( ** )"
   ]
  },
  {
   "cell_type": "code",
   "execution_count": 9,
   "metadata": {
    "vscode": {
     "languageId": "ocaml"
    }
   },
   "outputs": [
    {
     "data": {
      "text/plain": [
       "val abs : complex -> float = <fun>\n"
      ]
     },
     "execution_count": 9,
     "metadata": {},
     "output_type": "execute_result"
    }
   ],
   "source": [
    "let abs ((x, y) : complex) = sqrt (x ** 2. +. y ** 2.)"
   ]
  },
  {
   "cell_type": "code",
   "execution_count": 11,
   "metadata": {
    "vscode": {
     "languageId": "ocaml"
    }
   },
   "outputs": [
    {
     "data": {
      "text/plain": [
       "val abs : complex -> float = <fun>\n"
      ]
     },
     "execution_count": 11,
     "metadata": {},
     "output_type": "execute_result"
    }
   ],
   "source": [
    "let abs ((r, _fi) : complex) = r"
   ]
  },
  {
   "cell_type": "code",
   "execution_count": 12,
   "metadata": {
    "vscode": {
     "languageId": "ocaml"
    }
   },
   "outputs": [
    {
     "data": {
      "text/plain": [
       "type datum = int * int * int\n"
      ]
     },
     "execution_count": 12,
     "metadata": {},
     "output_type": "execute_result"
    }
   ],
   "source": [
    "type datum = int * int * int"
   ]
  },
  {
   "cell_type": "code",
   "execution_count": null,
   "metadata": {
    "vscode": {
     "languageId": "ocaml"
    }
   },
   "outputs": [],
   "source": [
    "let je_v_prestopnem_letu (_, _, leto) = ..."
   ]
  },
  {
   "cell_type": "code",
   "execution_count": null,
   "metadata": {
    "vscode": {
     "languageId": "ocaml"
    }
   },
   "outputs": [],
   "source": [
    "let je_v_prestopnem_letu (leto, _, _) = ..."
   ]
  },
  {
   "cell_type": "code",
   "execution_count": 12,
   "metadata": {
    "vscode": {
     "languageId": "ocaml"
    }
   },
   "outputs": [
    {
     "data": {
      "text/plain": [
       "type complex = { re : float; im : float; }\n"
      ]
     },
     "execution_count": 12,
     "metadata": {},
     "output_type": "execute_result"
    }
   ],
   "source": [
    "type 'a zaporedje = int -> 'a"
   ]
  },
  {
   "cell_type": "code",
   "execution_count": 11,
   "metadata": {
    "vscode": {
     "languageId": "ocaml"
    }
   },
   "outputs": [
    {
     "data": {
      "text/plain": [
       "type complex' = { r : float; phi : float; }\n"
      ]
     },
     "execution_count": 11,
     "metadata": {},
     "output_type": "execute_result"
    }
   ],
   "source": [
    "type ('k, 'v) slovar = ('k * 'v) list"
   ]
  },
  {
   "cell_type": "markdown",
   "metadata": {
    "vscode": {
     "languageId": "ocaml"
    }
   },
   "source": [
    "## Zapisi"
   ]
  },
  {
   "cell_type": "code",
   "execution_count": 13,
   "metadata": {
    "vscode": {
     "languageId": "ocaml"
    }
   },
   "outputs": [
    {
     "data": {
      "text/plain": [
       "type complex = { re : float; im : float; }\n"
      ]
     },
     "execution_count": 13,
     "metadata": {},
     "output_type": "execute_result"
    }
   ],
   "source": [
    "type complex = {\n",
    "  re : float;\n",
    "  im : float;\n",
    "}"
   ]
  },
  {
   "cell_type": "code",
   "execution_count": 13,
   "metadata": {
    "vscode": {
     "languageId": "ocaml"
    }
   },
   "outputs": [
    {
     "data": {
      "text/plain": [
       "type complex' = { radij : float; kot : float; }\n"
      ]
     },
     "execution_count": 13,
     "metadata": {},
     "output_type": "execute_result"
    }
   ],
   "source": [
    "type complex' = {\n",
    "  radij : float;\n",
    "  kot : float;\n",
    "}"
   ]
  },
  {
   "cell_type": "code",
   "execution_count": 14,
   "metadata": {
    "vscode": {
     "languageId": "ocaml"
    }
   },
   "outputs": [
    {
     "data": {
      "text/plain": [
       "val i : complex = {re = 0.; im = 1.}\n"
      ]
     },
     "execution_count": 14,
     "metadata": {},
     "output_type": "execute_result"
    }
   ],
   "source": [
    "let i = { re = 0.; im = 1. }"
   ]
  },
  {
   "cell_type": "code",
   "execution_count": 15,
   "metadata": {
    "vscode": {
     "languageId": "ocaml"
    }
   },
   "outputs": [
    {
     "data": {
      "text/plain": [
       "val abs : complex -> float = <fun>\n"
      ]
     },
     "execution_count": 15,
     "metadata": {},
     "output_type": "execute_result"
    }
   ],
   "source": [
    "let abs z = z.re ** 2. +. z.im ** 2. |> sqrt"
   ]
  },
  {
   "cell_type": "code",
   "execution_count": 18,
   "metadata": {
    "vscode": {
     "languageId": "ocaml"
    }
   },
   "outputs": [
    {
     "ename": "error",
     "evalue": "compile_error",
     "output_type": "error",
     "traceback": [
      "File \"[18]\", line 1, characters 11-13:\n1 | let conj { xy; zw } = { re = xy; im = -. zw }\n               ^^\nError: Unbound record field xy\n"
     ]
    }
   ],
   "source": [
    "let conj { xy; zw } = { re = xy; im = -. zw }"
   ]
  },
  {
   "cell_type": "code",
   "execution_count": 19,
   "metadata": {
    "vscode": {
     "languageId": "ocaml"
    }
   },
   "outputs": [
    {
     "data": {
      "text/plain": [
       "val conj : complex -> complex = <fun>\n"
      ]
     },
     "execution_count": 19,
     "metadata": {},
     "output_type": "execute_result"
    }
   ],
   "source": [
    "let conj z = c"
   ]
  },
  {
   "cell_type": "code",
   "execution_count": 20,
   "metadata": {
    "vscode": {
     "languageId": "ocaml"
    }
   },
   "outputs": [
    {
     "data": {
      "text/plain": [
       "type narocilo = (string * int) list * string * string\n"
      ]
     },
     "execution_count": 20,
     "metadata": {},
     "output_type": "execute_result"
    }
   ],
   "source": [
    "let conj { re = x; im = y } = { re = x; im = -. y }"
   ]
  },
  {
   "cell_type": "code",
   "execution_count": 21,
   "metadata": {
    "vscode": {
     "languageId": "ocaml"
    }
   },
   "outputs": [
    {
     "data": {
      "text/plain": [
       "type narocilo = {\n",
       "  izdelki : (string * int) list;\n",
       "  naslov : string;\n",
       "  dostava : string;\n",
       "}\n"
      ]
     },
     "execution_count": 21,
     "metadata": {},
     "output_type": "execute_result"
    }
   ],
   "source": [
    "type narocilo = {\n",
    "  izdelki : (string * int) list;\n",
    "  naslov : string;\n",
    "  dostava : string;\n",
    "}"
   ]
  },
  {
   "cell_type": "code",
   "execution_count": 22,
   "metadata": {
    "vscode": {
     "languageId": "ocaml"
    }
   },
   "outputs": [
    {
     "data": {
      "text/plain": [
       "type naroceni_izdelek = { izdelek : string; kolicina : int; }\n"
      ]
     },
     "execution_count": 22,
     "metadata": {},
     "output_type": "execute_result"
    },
    {
     "data": {
      "text/plain": [
       "type narocilo = {\n",
       "  izdelki : naroceni_izdelek list;\n",
       "  naslov : string;\n",
       "  dostava : string;\n",
       "}\n"
      ]
     },
     "execution_count": 22,
     "metadata": {},
     "output_type": "execute_result"
    },
    {
     "data": {
      "text/plain": [
       "val primer : narocilo list =\n",
       "  [{izdelki = [{izdelek = \"Lego kocke\"; kolicina = 10}];\n",
       "    naslov = \"Pisarna 5.19\"; dostava = \"po pošti\"};\n",
       "   {izdelki = [{izdelek = \"Lego kocke\"; kolicina = 10}];\n",
       "    naslov = \"Pisarna 5.07\"; dostava = \"osebno\"};\n",
       "   {izdelki = [{izdelek = \"Lego kocke\"; kolicina = 10}];\n",
       "    naslov = \"Pisarna P.23\"; dostava = \"osebni prevzem\"}]\n"
      ]
     },
     "execution_count": 22,
     "metadata": {},
     "output_type": "execute_result"
    },
    {
     "data": {
      "text/plain": [
       "val osebni_prevzemi : narocilo list -> narocilo list = <fun>\n"
      ]
     },
     "execution_count": 22,
     "metadata": {},
     "output_type": "execute_result"
    },
    {
     "data": {
      "text/plain": [
       "val rezultat : narocilo list =\n",
       "  [{izdelki = [{izdelek = \"Lego kocke\"; kolicina = 10}];\n",
       "    naslov = \"Pisarna 5.07\"; dostava = \"osebno\"}]\n"
      ]
     },
     "execution_count": 22,
     "metadata": {},
     "output_type": "execute_result"
    }
   ],
   "source": [
    "let conj { re; im } = { re; im = -. im }"
   ]
  },
  {
   "cell_type": "code",
   "execution_count": 23,
   "metadata": {
    "vscode": {
     "languageId": "ocaml"
    }
   },
   "outputs": [
    {
     "data": {
      "text/plain": [
       "type naroceni_izdelek = { izdelek : string; kolicina : int; }\n"
      ]
     },
     "execution_count": 23,
     "metadata": {},
     "output_type": "execute_result"
    },
    {
     "data": {
      "text/plain": [
       "type narocilo = {\n",
       "  izdelki : naroceni_izdelek list;\n",
       "  naslov : string;\n",
       "  dostava : int;\n",
       "}\n"
      ]
     },
     "execution_count": 23,
     "metadata": {},
     "output_type": "execute_result"
    },
    {
     "data": {
      "text/plain": [
       "val _PO_POSTI : int = 1\n"
      ]
     },
     "execution_count": 23,
     "metadata": {},
     "output_type": "execute_result"
    },
    {
     "data": {
      "text/plain": [
       "val _OSEBNI_PREVZEM : int = 2\n"
      ]
     },
     "execution_count": 23,
     "metadata": {},
     "output_type": "execute_result"
    },
    {
     "data": {
      "text/plain": [
       "val primer : narocilo list =\n",
       "  [{izdelki = [{izdelek = \"Lego kocke\"; kolicina = 10}];\n",
       "    naslov = \"Pisarna 5.19\"; dostava = 1};\n",
       "   {izdelki = [{izdelek = \"Lego kocke\"; kolicina = 10}];\n",
       "    naslov = \"Pisarna 5.07\"; dostava = 2};\n",
       "   {izdelki = [{izdelek = \"Lego kocke\"; kolicina = 10}];\n",
       "    naslov = \"Pisarna P.23\"; dostava = 3}]\n"
      ]
     },
     "execution_count": 23,
     "metadata": {},
     "output_type": "execute_result"
    },
    {
     "data": {
      "text/plain": [
       "val osebni_prevzemi : narocilo list -> narocilo list = <fun>\n"
      ]
     },
     "execution_count": 23,
     "metadata": {},
     "output_type": "execute_result"
    },
    {
     "data": {
      "text/plain": [
       "val rezultat : narocilo list =\n",
       "  [{izdelki = [{izdelek = \"Lego kocke\"; kolicina = 10}];\n",
       "    naslov = \"Pisarna 5.07\"; dostava = 2}]\n"
      ]
     },
     "execution_count": 23,
     "metadata": {},
     "output_type": "execute_result"
    }
   ],
   "source": [
    "let abs { radij; _ } = radij"
   ]
  },
  {
   "cell_type": "code",
   "execution_count": 24,
   "metadata": {
    "vscode": {
     "languageId": "ocaml"
    }
   },
   "outputs": [
    {
     "data": {
      "text/plain": [
       "type naroceni_izdelek = { izdelek : string; kolicina : int; }\n"
      ]
     },
     "execution_count": 24,
     "metadata": {},
     "output_type": "execute_result"
    },
    {
     "data": {
      "text/plain": [
       "type vrsta_dostave = PoPosti | OsebniPrevzem\n"
      ]
     },
     "execution_count": 24,
     "metadata": {},
     "output_type": "execute_result"
    },
    {
     "data": {
      "text/plain": [
       "type narocilo = {\n",
       "  izdelki : naroceni_izdelek list;\n",
       "  naslov : string;\n",
       "  dostava : vrsta_dostave;\n",
       "}\n"
      ]
     },
     "execution_count": 24,
     "metadata": {},
     "output_type": "execute_result"
    },
    {
     "data": {
      "text/plain": [
       "val primer : narocilo list =\n",
       "  [{izdelki = [{izdelek = \"Lego kocke\"; kolicina = 10}];\n",
       "    naslov = \"Pisarna 5.19\"; dostava = PoPosti};\n",
       "   {izdelki = [{izdelek = \"Lego kocke\"; kolicina = 10}];\n",
       "    naslov = \"Pisarna 5.07\"; dostava = OsebniPrevzem};\n",
       "   {izdelki = [{izdelek = \"Lego kocke\"; kolicina = 10}];\n",
       "    naslov = \"Pisarna P.23\"; dostava = OsebniPrevzem}]\n"
      ]
     },
     "execution_count": 24,
     "metadata": {},
     "output_type": "execute_result"
    },
    {
     "data": {
      "text/plain": [
       "val osebni_prevzemi : narocilo list -> narocilo list = <fun>\n"
      ]
     },
     "execution_count": 24,
     "metadata": {},
     "output_type": "execute_result"
    },
    {
     "data": {
      "text/plain": [
       "val cena_dostave : narocilo -> float = <fun>\n"
      ]
     },
     "execution_count": 24,
     "metadata": {},
     "output_type": "execute_result"
    },
    {
     "data": {
      "text/plain": [
       "val rezultat : narocilo list =\n",
       "  [{izdelki = [{izdelek = \"Lego kocke\"; kolicina = 10}];\n",
       "    naslov = \"Pisarna 5.07\"; dostava = OsebniPrevzem};\n",
       "   {izdelki = [{izdelek = \"Lego kocke\"; kolicina = 10}];\n",
       "    naslov = \"Pisarna P.23\"; dostava = OsebniPrevzem}]\n"
      ]
     },
     "execution_count": 24,
     "metadata": {},
     "output_type": "execute_result"
    }
   ],
   "source": [
    "let conj z = { z with im = -. z.im }"
   ]
  },
  {
   "cell_type": "code",
   "execution_count": 25,
   "metadata": {
    "vscode": {
     "languageId": "ocaml"
    }
   },
   "outputs": [
    {
     "data": {
      "text/plain": [
       "- : complex = {re = 0.; im = 1.}\n"
      ]
     },
     "execution_count": 25,
     "metadata": {},
     "output_type": "execute_result"
    }
   ],
   "source": [
    "i"
   ]
  },
  {
   "cell_type": "code",
   "execution_count": 26,
   "metadata": {
    "vscode": {
     "languageId": "ocaml"
    }
   },
   "outputs": [
    {
     "data": {
      "text/plain": [
       "type vrsta_dostave = PoPosti | OsebniPrevzem | HitraDostava\n"
      ]
     },
     "execution_count": 26,
     "metadata": {},
     "output_type": "execute_result"
    },
    {
     "data": {
      "text/plain": [
       "type narocilo = {\n",
       "  izdelki : naroceni_izdelek list;\n",
       "  naslov : string;\n",
       "  dostava : vrsta_dostave;\n",
       "}\n"
      ]
     },
     "execution_count": 26,
     "metadata": {},
     "output_type": "execute_result"
    },
    {
     "data": {
      "text/plain": [
       "val cena_dostave : narocilo -> float = <fun>\n"
      ]
     },
     "execution_count": 26,
     "metadata": {},
     "output_type": "execute_result"
    }
   ],
   "source": [
    "conj i"
   ]
  },
  {
   "cell_type": "code",
   "execution_count": null,
   "metadata": {
    "vscode": {
     "languageId": "ocaml"
    }
   },
   "outputs": [
    {
     "data": {
      "text/plain": [
       "type naslov = string\n"
      ]
     },
     "execution_count": 27,
     "metadata": {},
     "output_type": "execute_result"
    },
    {
     "data": {
      "text/plain": [
       "type telefon = string\n"
      ]
     },
     "execution_count": 27,
     "metadata": {},
     "output_type": "execute_result"
    },
    {
     "data": {
      "text/plain": [
       "type naroceni_izdelek = { izdelek : string; kolicina : int; }\n"
      ]
     },
     "execution_count": 27,
     "metadata": {},
     "output_type": "execute_result"
    },
    {
     "data": {
      "text/plain": [
       "type vrsta_dostave =\n",
       "    PoPosti of naslov\n",
       "  | OsebniPrevzem\n",
       "  | HitraDostava of naslov * telefon\n"
      ]
     },
     "execution_count": 27,
     "metadata": {},
     "output_type": "execute_result"
    },
    {
     "data": {
      "text/plain": [
       "type narocilo = { izdelki : naroceni_izdelek list; dostava : vrsta_dostave; }\n"
      ]
     },
     "execution_count": 27,
     "metadata": {},
     "output_type": "execute_result"
    },
    {
     "data": {
      "text/plain": [
       "val primer : narocilo list =\n",
       "  [{izdelki = [{izdelek = \"Lego kocke\"; kolicina = 10}];\n",
       "    dostava = PoPosti \"Pisarna 5.19\"};\n",
       "   {izdelki = [{izdelek = \"Lego kocke\"; kolicina = 10}];\n",
       "    dostava = OsebniPrevzem};\n",
       "   {izdelki = [{izdelek = \"Lego kocke\"; kolicina = 10}];\n",
       "    dostava = HitraDostava (\"01 4766 600\", \"Pisarna P.23\")}]\n"
      ]
     },
     "execution_count": 27,
     "metadata": {},
     "output_type": "execute_result"
    }
   ],
   "source": [
    "type naslov = string\n",
    "type telefon = string\n",
    "type naroceni_izdelek = { izdelek : string; kolicina : int }\n",
    "\n",
    "type vrsta_dostave =\n",
    "  | PoPosti of naslov\n",
    "  | OsebniPrevzem\n",
    "  | HitraDostava of naslov * telefon\n",
    "\n",
    "type narocilo = {\n",
    "  izdelki : naroceni_izdelek list;\n",
    "  dostava : vrsta_dostave;\n",
    "}\n",
    "\n",
    "let primer = [\n",
    "  { izdelki = [{ izdelek = \"Lego kocke\"; kolicina = 10}]; dostava = PoPosti \"Pisarna 5.19\"};\n",
    "  { izdelki = [{ izdelek = \"Lego kocke\"; kolicina = 10}]; dostava = OsebniPrevzem};\n",
    "  { izdelki = [{ izdelek = \"Lego kocke\"; kolicina = 10}]; dostava = HitraDostava (\"Pisarna P.23\", \"01 4766 600\")};\n",
    "]"
   ]
  },
  {
   "cell_type": "code",
   "execution_count": 28,
   "metadata": {
    "vscode": {
     "languageId": "ocaml"
    }
   },
   "outputs": [
    {
     "data": {
      "text/plain": [
       "type naslov = string\n"
      ]
     },
     "execution_count": 28,
     "metadata": {},
     "output_type": "execute_result"
    },
    {
     "data": {
      "text/plain": [
       "type telefon = string\n"
      ]
     },
     "execution_count": 28,
     "metadata": {},
     "output_type": "execute_result"
    },
    {
     "data": {
      "text/plain": [
       "type naroceni_izdelek = { izdelek : string; kolicina : int; }\n"
      ]
     },
     "execution_count": 28,
     "metadata": {},
     "output_type": "execute_result"
    },
    {
     "data": {
      "text/plain": [
       "type vrsta_dostave =\n",
       "    PoPosti of naslov\n",
       "  | OsebniPrevzem\n",
       "  | HitraDostava of { naslov : naslov; telefon : telefon; }\n"
      ]
     },
     "execution_count": 28,
     "metadata": {},
     "output_type": "execute_result"
    },
    {
     "data": {
      "text/plain": [
       "type narocilo = { izdelki : naroceni_izdelek list; dostava : vrsta_dostave; }\n"
      ]
     },
     "execution_count": 28,
     "metadata": {},
     "output_type": "execute_result"
    },
    {
     "data": {
      "text/plain": [
       "val primer : narocilo list =\n",
       "  [{izdelki = [{izdelek = \"Lego kocke\"; kolicina = 10}];\n",
       "    dostava = PoPosti \"Pisarna 5.19\"};\n",
       "   {izdelki = [{izdelek = \"Lego kocke\"; kolicina = 10}];\n",
       "    dostava = OsebniPrevzem};\n",
       "   {izdelki = [{izdelek = \"Lego kocke\"; kolicina = 10}];\n",
       "    dostava = HitraDostava {naslov = \"Pisarna P.23\"; telefon = \"01 4766 600\"}}]\n"
      ]
     },
     "execution_count": 28,
     "metadata": {},
     "output_type": "execute_result"
    }
   ],
   "source": [
    "type naslov = string\n",
    "type telefon = string\n",
    "type naroceni_izdelek = { izdelek : string; kolicina : int }\n",
    "\n",
    "type vrsta_dostave =\n",
    "  | PoPosti of naslov\n",
    "  | OsebniPrevzem\n",
    "  | HitraDostava of { naslov : naslov; telefon : telefon }\n",
    "\n",
    "type narocilo = {\n",
    "  izdelki : naroceni_izdelek list;\n",
    "  dostava : vrsta_dostave;\n",
    "}\n",
    "\n",
    "let primer = [\n",
    "  { izdelki = [{ izdelek = \"Lego kocke\"; kolicina = 10}]; dostava = PoPosti \"Pisarna 5.19\"};\n",
    "  { izdelki = [{ izdelek = \"Lego kocke\"; kolicina = 10}]; dostava = OsebniPrevzem};\n",
    "  { izdelki = [{ izdelek = \"Lego kocke\"; kolicina = 10}]; dostava = HitraDostava { telefon = \"01 4766 600\"; naslov = \"Pisarna P.23\"}};\n",
    "]"
   ]
  },
  {
   "cell_type": "code",
   "execution_count": 30,
   "metadata": {
    "vscode": {
     "languageId": "ocaml"
    }
   },
   "outputs": [
    {
     "data": {
      "text/plain": [
       "type naslov = Naslov of string\n"
      ]
     },
     "execution_count": 30,
     "metadata": {},
     "output_type": "execute_result"
    },
    {
     "data": {
      "text/plain": [
       "type telefon = Telefon of string\n"
      ]
     },
     "execution_count": 30,
     "metadata": {},
     "output_type": "execute_result"
    },
    {
     "data": {
      "text/plain": [
       "type naroceni_izdelek = { izdelek : string; kolicina : int; }\n"
      ]
     },
     "execution_count": 30,
     "metadata": {},
     "output_type": "execute_result"
    },
    {
     "data": {
      "text/plain": [
       "type vrsta_dostave =\n",
       "    PoPosti of naslov\n",
       "  | OsebniPrevzem\n",
       "  | HitraDostava of naslov * telefon\n"
      ]
     },
     "execution_count": 30,
     "metadata": {},
     "output_type": "execute_result"
    },
    {
     "data": {
      "text/plain": [
       "type narocilo = { izdelki : naroceni_izdelek list; dostava : vrsta_dostave; }\n"
      ]
     },
     "execution_count": 30,
     "metadata": {},
     "output_type": "execute_result"
    },
    {
     "data": {
      "text/plain": [
       "val primer : narocilo list =\n",
       "  [{izdelki = [{izdelek = \"Lego kocke\"; kolicina = 10}];\n",
       "    dostava = PoPosti (Naslov \"Pisarna 5.19\")};\n",
       "   {izdelki = [{izdelek = \"Lego kocke\"; kolicina = 10}];\n",
       "    dostava = OsebniPrevzem};\n",
       "   {izdelki = [{izdelek = \"Lego kocke\"; kolicina = 10}];\n",
       "    dostava = HitraDostava (Naslov \"Pisarna P.23\", Telefon \"01 4766 600\")}]\n"
      ]
     },
     "execution_count": 30,
     "metadata": {},
     "output_type": "execute_result"
    }
   ],
   "source": [
    "type naslov =\n",
    "  | Naslov of string\n",
    "type telefon =\n",
    "  | Telefon of string\n",
    "type naroceni_izdelek = { izdelek : string; kolicina : int }\n",
    "\n",
    "type vrsta_dostave =\n",
    "  | PoPosti of naslov\n",
    "  | OsebniPrevzem\n",
    "  | HitraDostava of naslov * telefon\n",
    "\n",
    "type narocilo = {\n",
    "  izdelki : naroceni_izdelek list;\n",
    "  dostava : vrsta_dostave;\n",
    "}\n",
    "\n",
    "let primer = [\n",
    "  { izdelki = [{ izdelek = \"Lego kocke\"; kolicina = 10}]; dostava = PoPosti (Naslov \"Pisarna 5.19\")};\n",
    "  { izdelki = [{ izdelek = \"Lego kocke\"; kolicina = 10}]; dostava = OsebniPrevzem};\n",
    "  { izdelki = [{ izdelek = \"Lego kocke\"; kolicina = 10}]; dostava = HitraDostava (Naslov \"Pisarna P.23\", Telefon \"01 4766 600\")};\n",
    "]"
   ]
  },
  {
   "cell_type": "code",
   "execution_count": null,
   "metadata": {
    "vscode": {
     "languageId": "ocaml"
    }
   },
   "outputs": [
    {
     "data": {
      "text/plain": [
       "type 'a mogoce = Nic | Nekaj of 'a\n"
      ]
     },
     "execution_count": 13,
     "metadata": {},
     "output_type": "execute_result"
    }
   ],
   "source": [
    "(* type 'a option =\n",
    "  | None\n",
    "  | Some of 'a *)\n",
    "\n",
    "type 'a mogoce =\n",
    "  | Nic\n",
    "  | Nekaj of 'a"
   ]
  },
  {
   "cell_type": "code",
   "execution_count": 14,
   "metadata": {
    "vscode": {
     "languageId": "ocaml"
    }
   },
   "outputs": [
    {
     "data": {
      "text/plain": [
       "- : int mogoce = Nekaj 3\n"
      ]
     },
     "execution_count": 14,
     "metadata": {},
     "output_type": "execute_result"
    }
   ],
   "source": [
    "Nekaj 3"
   ]
  },
  {
   "cell_type": "code",
   "execution_count": 31,
   "metadata": {
    "vscode": {
     "languageId": "ocaml"
    }
   },
   "outputs": [
    {
     "data": {
      "text/plain": [
       "type ('a, 'b) vsota = In1 of 'a | In2 of 'b\n"
      ]
     },
     "execution_count": 31,
     "metadata": {},
     "output_type": "execute_result"
    }
   ],
   "source": [
    "type ('a, 'b) vsota =\n",
    "  | In1 of 'a\n",
    "  | In2 of 'b"
   ]
  },
  {
   "cell_type": "code",
   "execution_count": 32,
   "metadata": {
    "vscode": {
     "languageId": "ocaml"
    }
   },
   "outputs": [
    {
     "data": {
      "text/plain": [
       "type boole = True | False\n"
      ]
     },
     "execution_count": 32,
     "metadata": {},
     "output_type": "execute_result"
    }
   ],
   "source": [
    "type boole =\n",
    "  | True\n",
    "  | False"
   ]
  },
  {
   "cell_type": "code",
   "execution_count": 33,
   "metadata": {
    "vscode": {
     "languageId": "ocaml"
    }
   },
   "outputs": [
    {
     "data": {
      "text/plain": [
       "type enota = OklepajZaklepaj\n"
      ]
     },
     "execution_count": 33,
     "metadata": {},
     "output_type": "execute_result"
    }
   ],
   "source": [
    "type enota =\n",
    "  | OklepajZaklepaj"
   ]
  },
  {
   "cell_type": "code",
   "execution_count": 34,
   "metadata": {
    "vscode": {
     "languageId": "ocaml"
    }
   },
   "outputs": [
    {
     "data": {
      "text/plain": [
       "type 'a seznam = Prazen | Sestavljen of 'a * 'a seznam\n"
      ]
     },
     "execution_count": 34,
     "metadata": {},
     "output_type": "display_data"
    }
   ],
   "source": [
    "type 'a seznam =\n",
    "  | Prazen\n",
    "  | Sestavljen of 'a * 'a seznam"
   ]
  },
  {
   "cell_type": "code",
   "execution_count": 35,
   "metadata": {
    "vscode": {
     "languageId": "ocaml"
    }
   },
   "outputs": [
    {
     "data": {
      "text/plain": [
       "type nat = Zero | Succ of nat\n"
      ]
     },
     "execution_count": 35,
     "metadata": {},
     "output_type": "execute_result"
    }
   ],
   "source": [
    "type 'a drevo =\n",
    "  | Prazno\n",
    "  | Sestavljeno of 'a drevo * 'a * 'a drevo"
   ]
  },
  {
   "cell_type": "code",
   "execution_count": 36,
   "metadata": {
    "vscode": {
     "languageId": "ocaml"
    }
   },
   "outputs": [
    {
     "data": {
      "text/plain": [
       "type naravno = Nic | Naslednik of naravno\n"
      ]
     },
     "execution_count": 36,
     "metadata": {},
     "output_type": "execute_result"
    }
   ],
   "source": [
    "type naravno =\n",
    "  | Nic\n",
    "  | Naslednik of naravno"
   ]
  },
  {
   "cell_type": "code",
   "execution_count": 37,
   "metadata": {
    "vscode": {
     "languageId": "ocaml"
    }
   },
   "outputs": [
    {
     "data": {
      "text/plain": [
       "val plus : naravno -> naravno -> naravno = <fun>\n"
      ]
     },
     "execution_count": 37,
     "metadata": {},
     "output_type": "execute_result"
    }
   ],
   "source": [
    "let rec plus m n =\n",
    "  match m with\n",
    "  | Nic -> n\n",
    "  | Naslednik m' -> Naslednik (plus m' n)"
   ]
  },
  {
   "cell_type": "code",
   "execution_count": 39,
   "metadata": {
    "vscode": {
     "languageId": "ocaml"
    }
   },
   "outputs": [
    {
     "data": {
      "text/plain": [
       "val ena : naravno = Naslednik Nic\n"
      ]
     },
     "execution_count": 39,
     "metadata": {},
     "output_type": "execute_result"
    }
   ],
   "source": [
    "let rec krat m n =\n",
    "  match m with\n",
    "  | Zero -> Zero\n",
    "  | Succ m' -> plus (krat m' n) n"
   ]
  },
  {
   "cell_type": "code",
   "execution_count": 42,
   "metadata": {
    "vscode": {
     "languageId": "ocaml"
    }
   },
   "outputs": [
    {
     "data": {
      "text/plain": [
       "val dva : naravno = Naslednik (Naslednik Nic)\n"
      ]
     },
     "execution_count": 42,
     "metadata": {},
     "output_type": "execute_result"
    }
   ],
   "source": [
    "let stiri = krat dva dva"
   ]
  },
  {
   "cell_type": "code",
   "execution_count": 43,
   "metadata": {
    "vscode": {
     "languageId": "ocaml"
    }
   },
   "outputs": [
    {
     "data": {
      "text/plain": [
       "val stiri : naravno = Naslednik (Naslednik (Naslednik (Naslednik Nic)))\n"
      ]
     },
     "execution_count": 43,
     "metadata": {},
     "output_type": "execute_result"
    }
   ],
   "source": [
    "let ena = Naslednik Nic\n",
    "let dva = plus ena ena\n",
    "let stiri = plus dva dva"
   ]
  },
  {
   "cell_type": "code",
   "execution_count": 44,
   "metadata": {
    "vscode": {
     "languageId": "ocaml"
    }
   },
   "outputs": [
    {
     "data": {
      "text/plain": [
       "val krat : naravno -> naravno -> naravno = <fun>\n"
      ]
     },
     "execution_count": 44,
     "metadata": {},
     "output_type": "execute_result"
    }
   ],
   "source": [
    "let rec krat m n =\n",
    "  match m with\n",
    "  | Nic -> Nic\n",
    "  | Naslednik m' -> plus (krat m' n) n"
   ]
  },
  {
   "cell_type": "code",
   "execution_count": 45,
   "metadata": {
    "vscode": {
     "languageId": "ocaml"
    }
   },
   "outputs": [
    {
     "data": {
      "text/plain": [
       "- : naravno =\n",
       "Naslednik\n",
       " (Naslednik\n",
       "   (Naslednik\n",
       "     (Naslednik\n",
       "       (Naslednik\n",
       "         (Naslednik\n",
       "           (Naslednik\n",
       "             (Naslednik\n",
       "               (Naslednik\n",
       "                 (Naslednik\n",
       "                   (Naslednik\n",
       "                     (Naslednik\n",
       "                       (Naslednik (Naslednik (Naslednik (Naslednik Nic)))))))))))))))\n"
      ]
     },
     "execution_count": 45,
     "metadata": {},
     "output_type": "execute_result"
    }
   ],
   "source": [
    "krat stiri stiri"
   ]
  }
 ],
 "metadata": {
  "kernelspec": {
   "display_name": "OCaml 4.14",
   "language": "OCaml",
   "name": "ocaml-jupyter"
  },
  "language_info": {
   "codemirror_mode": "text/x-ocaml",
   "file_extension": ".ml",
   "mimetype": "text/x-ocaml",
   "name": "OCaml",
   "nbconverter_exporter": null,
   "pygments_lexer": "OCaml",
   "version": "4.14.2"
  }
 },
 "nbformat": 4,
 "nbformat_minor": 2
}
