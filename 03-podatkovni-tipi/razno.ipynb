{
 "cells": [
  {
   "cell_type": "markdown",
   "id": "bf543ae6",
   "metadata": {},
   "source": [
    "### Zgledi iz vaj"
   ]
  },
  {
   "cell_type": "code",
   "execution_count": 1,
   "metadata": {
    "vscode": {
     "languageId": "ocaml"
    }
   },
   "outputs": [
    {
     "data": {
      "text/plain": [
       "type geometrijski_objekt =\n",
       "    Tocka\n",
       "  | Krog of float\n",
       "  | Pravokotnik of float * float\n"
      ]
     },
     "execution_count": 1,
     "metadata": {},
     "output_type": "execute_result"
    }
   ],
   "source": [
    "type geometrijski_objekt =\n",
    "  | Tocka\n",
    "  | Krog of float\n",
    "  | Pravokotnik of float * float"
   ]
  },
  {
   "cell_type": "code",
   "execution_count": 3,
   "id": "e62d765b",
   "metadata": {
    "vscode": {
     "languageId": "ocaml"
    }
   },
   "outputs": [
    {
     "data": {
      "text/plain": [
       "val ploscina : geometrijski_objekt -> float = <fun>\n"
      ]
     },
     "execution_count": 3,
     "metadata": {},
     "output_type": "execute_result"
    }
   ],
   "source": [
    "let ploscina objekt =\n",
    "  match objekt with\n",
    "  | Tocka -> 0.0\n",
    "  | Krog r -> 3.14 *. r ** 2.0\n",
    "  | Pravokotnik (s1, s2) -> s1 *. s2"
   ]
  },
  {
   "cell_type": "code",
   "execution_count": 4,
   "id": "a2d4f968",
   "metadata": {
    "vscode": {
     "languageId": "ocaml"
    }
   },
   "outputs": [
    {
     "data": {
      "text/plain": [
       "- : float = 78.5\n"
      ]
     },
     "execution_count": 4,
     "metadata": {},
     "output_type": "execute_result"
    },
    {
     "data": {
      "text/plain": [
       "- : float = 24.\n"
      ]
     },
     "execution_count": 4,
     "metadata": {},
     "output_type": "execute_result"
    }
   ],
   "source": [
    "ploscina (Krog 5.0);;\n",
    "ploscina (Pravokotnik (4.0, 6.0));;"
   ]
  }
 ],
 "metadata": {
  "kernelspec": {
   "display_name": "OCaml 4.14",
   "language": "OCaml",
   "name": "ocaml-jupyter"
  },
  "language_info": {
   "codemirror_mode": "text/x-ocaml",
   "file_extension": ".ml",
   "mimetype": "text/x-ocaml",
   "name": "OCaml",
   "nbconverter_exporter": null,
   "pygments_lexer": "OCaml",
   "version": "4.14.2"
  }
 },
 "nbformat": 4,
 "nbformat_minor": 5
}
